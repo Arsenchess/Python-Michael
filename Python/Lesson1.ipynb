{
 "cells": [
  {
   "cell_type": "code",
   "execution_count": null,
   "metadata": {},
   "outputs": [],
   "source": [
    "Fork это копирование чужого репозитория в личный акканут для дальнейшого пулл ревкеста.\n",
    "Pull request перенос правок из личного репозитория в форкнутый\n",
    "Commit фиксирование правок"
   ]
  }
 ],
 "metadata": {
  "language_info": {
   "name": "python"
  }
 },
 "nbformat": 4,
 "nbformat_minor": 2
}
